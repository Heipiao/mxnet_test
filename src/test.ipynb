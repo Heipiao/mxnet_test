{
 "cells": [
  {
   "cell_type": "code",
   "execution_count": 4,
   "metadata": {
    "collapsed": false
   },
   "outputs": [
    {
     "name": "stderr",
     "output_type": "stream",
     "text": [
      "usage: __main__.py [-h]\n",
      "                   [--network {alexnet,vgg,googlenet,inception-bn,inception-bn-full,inception-v3,vgg16}]\n",
      "                   [--data-dir DATA_DIR] [--model-prefix MODEL_PREFIX]\n",
      "                   [--lr LR] [--lr-factor LR_FACTOR]\n",
      "                   [--lr-factor-epoch LR_FACTOR_EPOCH]\n",
      "                   [--clip-gradient CLIP_GRADIENT] [--num-epochs NUM_EPOCHS]\n",
      "                   [--load-epoch LOAD_EPOCH] [--finetune-from FINETUNE_FROM]\n",
      "                   [--finetune-lr-scale FINETUNE_LR_SCALE]\n",
      "                   [--batch-size BATCH_SIZE] [--gpus GPUS]\n",
      "                   [--kv-store KV_STORE] [--num-examples NUM_EXAMPLES]\n",
      "                   [--num-classes NUM_CLASSES] [--dataset DATASET]\n",
      "                   [--log-file LOG_FILE] [--log-dir LOG_DIR]\n",
      "                   [--train-dataset TRAIN_DATASET] [--val-dataset VAL_DATASET]\n",
      "                   [--data-shape DATA_SHAPE]\n",
      "__main__.py: error: unrecognized arguments: -f /root/.local/share/jupyter/runtime/kernel-653f621b-4018-4b4a-84b1-947705c74d94.json\n"
     ]
    },
    {
     "ename": "SystemExit",
     "evalue": "2",
     "output_type": "error",
     "traceback": [
      "An exception has occurred, use %tb to see the full traceback.\n",
      "\u001b[0;31mSystemExit\u001b[0m\u001b[0;31m:\u001b[0m 2\n"
     ]
    },
    {
     "name": "stderr",
     "output_type": "stream",
     "text": [
      "/usr/local/lib/python2.7/dist-packages/IPython/core/interactiveshell.py:2889: UserWarning: To exit: use 'exit', 'quit', or Ctrl-D.\n",
      "  warn(\"To exit: use 'exit', 'quit', or Ctrl-D.\", stacklevel=1)\n"
     ]
    }
   ],
   "source": [
    "import mxnet as mx\n",
    "import logging\n",
    "import argparse\n",
    "import os\n",
    "import train_model\n",
    "# don't use -n and -s, which are resevered for the distributed training\n",
    "parser = argparse.ArgumentParser(description='train an image classifer on imagenet')\n",
    "parser.add_argument('--network', type=str, default='inception-bn',\n",
    "                    choices = ['alexnet', 'vgg', 'googlenet', 'inception-bn', 'inception-bn-full', 'inception-v3', 'vgg16'],\n",
    "                    help = 'the cnn to use')\n",
    "parser.add_argument('--data-dir', type=str,default='./rec_224/',\n",
    "                    help='the input data directory')\n",
    "parser.add_argument('--model-prefix', type=str,default='./model/checkpoint',\n",
    "                    help='the prefix of the model to load/save')\n",
    "parser.add_argument('--lr', type=float, default=.001,\n",
    "                    help='the initial learning rate')\n",
    "parser.add_argument('--lr-factor', type=float, default=1,\n",
    "                    help='times the lr with a factor for every lr-factor-epoch epoch')\n",
    "parser.add_argument('--lr-factor-epoch', type=float, default=1,\n",
    "                    help='the number of epoch to factor the lr, could be .5')\n",
    "parser.add_argument('--clip-gradient', type=float, default=5.,\n",
    "                    help='clip min/max gradient to prevent extreme value')\n",
    "parser.add_argument('--num-epochs', type=int, default=30,\n",
    "                    help='the number of training epochs')\n",
    "parser.add_argument('--load-epoch', type=int,\n",
    "                    help=\"load the model on an epoch using the model-prefix\")\n",
    "parser.add_argument('--finetune-from', type=str, default='model/Inception_BN-0039',\n",
    "                    help=\"finetune from model\")\n",
    "parser.add_argument('--finetune-lr-scale', type=float, default=10,\n",
    "                    help=\"finetune layer lr_scale\")\n",
    "parser.add_argument('--batch-size', type=int, default=32,\n",
    "                    help='the batch size')\n",
    "parser.add_argument('--gpus', type=str, default=\"0\",\n",
    "                    help='the gpus will be used, e.g \"0,1,2,3\"')\n",
    "parser.add_argument('--kv-store', type=str, default='local',\n",
    "                    help='the kvstore type')\n",
    "parser.add_argument('--num-examples', type=int, default=216,\n",
    "                    help='the number of training examples')\n",
    "parser.add_argument('--num-classes', type=int, default=10,\n",
    "                    help='the number of classes')\n",
    "parser.add_argument('--dataset', type=str, default='ft',\n",
    "                    help='dataset')\n",
    "parser.add_argument('--log-file', type=str,\n",
    "\t\t    help='the name of log file')\n",
    "parser.add_argument('--log-dir', type=str, default=\"./tmp/\",\n",
    "                    help='directory of the log file')\n",
    "parser.add_argument('--train-dataset', type=str,\n",
    "                    help='train dataset name')\n",
    "parser.add_argument('--val-dataset', type=str,\n",
    "                    help=\"validation dataset name\")\n",
    "parser.add_argument('--data-shape', type=int, default=224,\n",
    "                    help='set image\\'s shape')\n",
    "args = parser.parse_args()\n",
    "\n",
    "# network\n",
    "import importlib\n",
    "net = importlib.import_module('symbol_' + args.network).get_symbol(args.num_classes, args.dataset)\n",
    "\n",
    "# data\n",
    "def get_iterator(args, kv):\n",
    "    data_shape = (3, args.data_shape, args.data_shape)\n",
    "    train = mx.io.ImageRecordIter(\n",
    "        path_imgrec = os.path.join(args.data_dir, args.train_dataset),\n",
    "        mean_img = \"mean.bin\",\n",
    "        data_shape  = data_shape,\n",
    "        batch_size  = args.batch_size,\n",
    "        rand_crop   = True,\n",
    "        rand_mirror = True,\n",
    "        #max_aspect_ratio = 0.35,\n",
    "        max_rotate_angle = 10, #random rotate 30 degrees\n",
    "        #max_random_contrast = 0.25,\n",
    "        #max_random_illumination = 0.3,\n",
    "        shuffle     = True,\n",
    "        num_parts   = kv.num_workers,\n",
    "        part_index  = kv.rank)\n",
    "\n",
    "    val = mx.io.ImageRecordIter(\n",
    "        path_imgrec = os.path.join(args.data_dir, args.val_dataset),\n",
    "        rand_crop   = False,\n",
    "        rand_mirror = False,\n",
    "        mean_img = \"mean.bin\",\n",
    "        data_shape  = data_shape,\n",
    "        batch_size  = args.batch_size,\n",
    "        num_parts   = kv.num_workers,\n",
    "        part_index  = kv.rank)\n",
    "\n",
    "    return (train, val)\n",
    "\n",
    "# train\n",
    "train_model.fit(args, net, get_iterator)\n",
    "\n"
   ]
  },
  {
   "cell_type": "code",
   "execution_count": null,
   "metadata": {
    "collapsed": true
   },
   "outputs": [],
   "source": []
  },
  {
   "cell_type": "code",
   "execution_count": null,
   "metadata": {
    "collapsed": true
   },
   "outputs": [],
   "source": []
  }
 ],
 "metadata": {
  "kernelspec": {
   "display_name": "Python 2",
   "language": "python",
   "name": "python2"
  },
  "language_info": {
   "codemirror_mode": {
    "name": "ipython",
    "version": 2
   },
   "file_extension": ".py",
   "mimetype": "text/x-python",
   "name": "python",
   "nbconvert_exporter": "python",
   "pygments_lexer": "ipython2",
   "version": "2.7.6"
  }
 },
 "nbformat": 4,
 "nbformat_minor": 2
}
